{
  "cells": [
    {
      "cell_type": "code",
      "execution_count": null,
      "metadata": {
        "colab": {
          "base_uri": "https://localhost:8080/"
        },
        "id": "cpU_vQY-Afab",
        "outputId": "1ae635fe-5586-4547-acdf-9f010795f824"
      },
      "outputs": [
        {
          "name": "stdout",
          "output_type": "stream",
          "text": [
            "Collecting pandera\n",
            "  Downloading pandera-0.19.2-py3-none-any.whl (251 kB)\n",
            "\u001b[2K     \u001b[90m━━━━━━━━━━━━━━━━━━━━━━━━━━━━━━━━━━━━━━━━\u001b[0m \u001b[32m251.6/251.6 kB\u001b[0m \u001b[31m2.0 MB/s\u001b[0m eta \u001b[36m0:00:00\u001b[0m\n",
            "\u001b[?25hCollecting multimethod<=1.10.0 (from pandera)\n",
            "  Downloading multimethod-1.10-py3-none-any.whl (9.9 kB)\n",
            "Requirement already satisfied: numpy>=1.19.0 in /usr/local/lib/python3.10/dist-packages (from pandera) (1.25.2)\n",
            "Requirement already satisfied: packaging>=20.0 in /usr/local/lib/python3.10/dist-packages (from pandera) (24.0)\n",
            "Requirement already satisfied: pandas>=1.2.0 in /usr/local/lib/python3.10/dist-packages (from pandera) (2.0.3)\n",
            "Requirement already satisfied: pydantic in /usr/local/lib/python3.10/dist-packages (from pandera) (2.7.1)\n",
            "Collecting typeguard (from pandera)\n",
            "  Downloading typeguard-4.2.1-py3-none-any.whl (34 kB)\n",
            "Collecting typing-inspect>=0.6.0 (from pandera)\n",
            "  Downloading typing_inspect-0.9.0-py3-none-any.whl (8.8 kB)\n",
            "Requirement already satisfied: wrapt in /usr/local/lib/python3.10/dist-packages (from pandera) (1.14.1)\n",
            "Requirement already satisfied: python-dateutil>=2.8.2 in /usr/local/lib/python3.10/dist-packages (from pandas>=1.2.0->pandera) (2.8.2)\n",
            "Requirement already satisfied: pytz>=2020.1 in /usr/local/lib/python3.10/dist-packages (from pandas>=1.2.0->pandera) (2023.4)\n",
            "Requirement already satisfied: tzdata>=2022.1 in /usr/local/lib/python3.10/dist-packages (from pandas>=1.2.0->pandera) (2024.1)\n",
            "Collecting mypy-extensions>=0.3.0 (from typing-inspect>=0.6.0->pandera)\n",
            "  Downloading mypy_extensions-1.0.0-py3-none-any.whl (4.7 kB)\n",
            "Requirement already satisfied: typing-extensions>=3.7.4 in /usr/local/lib/python3.10/dist-packages (from typing-inspect>=0.6.0->pandera) (4.11.0)\n",
            "Requirement already satisfied: annotated-types>=0.4.0 in /usr/local/lib/python3.10/dist-packages (from pydantic->pandera) (0.6.0)\n",
            "Requirement already satisfied: pydantic-core==2.18.2 in /usr/local/lib/python3.10/dist-packages (from pydantic->pandera) (2.18.2)\n",
            "Requirement already satisfied: six>=1.5 in /usr/local/lib/python3.10/dist-packages (from python-dateutil>=2.8.2->pandas>=1.2.0->pandera) (1.16.0)\n",
            "Installing collected packages: typeguard, mypy-extensions, multimethod, typing-inspect, pandera\n",
            "Successfully installed multimethod-1.10 mypy-extensions-1.0.0 pandera-0.19.2 typeguard-4.2.1 typing-inspect-0.9.0\n"
          ]
        }
      ],
      "source": [
        "pip install pandera"
      ]
    },
    {
      "cell_type": "code",
      "execution_count": null,
      "metadata": {
        "id": "UV_fAKmQ9l7U"
      },
      "outputs": [],
      "source": [
        "import pandas as pd\n",
        "import pandera as pa"
      ]
    },
    {
      "cell_type": "code",
      "execution_count": null,
      "metadata": {
        "colab": {
          "base_uri": "https://localhost:8080/"
        },
        "id": "woV3z3IiAlox",
        "outputId": "116c0309-ba6e-4bac-9e21-c13f2086c2a6"
      },
      "outputs": [
        {
          "name": "stdout",
          "output_type": "stream",
          "text": [
            "Original Dataset:\n",
            "                                                name     main_category  \\\n",
            "0  LEOTUDE Women's Cottonblend Half Sleeve Oversi...  women's clothing   \n",
            "1  Alexvyan Women Warm Thick Fur Lined Fleece The...  women's clothing   \n",
            "2  Electomania Women's Silk Underskirt (SH02399_W...  women's clothing   \n",
            "3                       Jockey Women's Slim fit Vest  women's clothing   \n",
            "4  SIGHTBOMB WRAP Around Extended Sleeves Ribbed ...  women's clothing   \n",
            "\n",
            "   sub_category                                              image  \\\n",
            "0  Western Wear  https://m.media-amazon.com/images/I/61iKv6-unX...   \n",
            "1  Western Wear  https://m.media-amazon.com/images/I/41kY+dxDpz...   \n",
            "2  Western Wear  https://m.media-amazon.com/images/I/41rS-qOPTw...   \n",
            "3  Western Wear  https://m.media-amazon.com/images/I/712mDx1kwx...   \n",
            "4  Western Wear  https://m.media-amazon.com/images/I/61WHrBI-ZV...   \n",
            "\n",
            "                                                link ratings no_of_ratings  \\\n",
            "0  https://www.amazon.in/Leotude-Womens-T-Shirt-2...     3.6           162   \n",
            "1  https://www.amazon.in/Alexvyan-Fleece-Legging-...     4.3         2,258   \n",
            "2  https://www.amazon.in/Electomania%C2%AE-Unders...     3.8         3,578   \n",
            "3  https://www.amazon.in/Jockey-Womens-Cotton-Tan...     4.3         9,633   \n",
            "4  https://www.amazon.in/SIGHTBOMB-Around-Extende...       4           125   \n",
            "\n",
            "  discount_price actual_price  \n",
            "0           ₹309       ₹1,099  \n",
            "1           ₹729       ₹1,299  \n",
            "2         ₹1,099       ₹1,999  \n",
            "3            NaN         ₹269  \n",
            "4           ₹388       ₹1,200  \n"
          ]
        }
      ],
      "source": [
        "df = pd.read_csv(\"Western Wear.csv\")\n",
        "print(\"Original Dataset:\")\n",
        "print(df.head())"
      ]
    },
    {
      "cell_type": "markdown",
      "metadata": {
        "id": "fRZyTz_zCWNR"
      },
      "source": [
        "Clean the Dataset"
      ]
    },
    {
      "cell_type": "code",
      "execution_count": null,
      "metadata": {
        "colab": {
          "base_uri": "https://localhost:8080/"
        },
        "id": "LYft-WN8BHdo",
        "outputId": "4ada1001-105a-4d7b-f891-6dc0d1683c31"
      },
      "outputs": [
        {
          "name": "stdout",
          "output_type": "stream",
          "text": [
            "                                                name     main_category  \\\n",
            "0  LEOTUDE Women's Cottonblend Half Sleeve Oversi...  women's clothing   \n",
            "1  Alexvyan Women Warm Thick Fur Lined Fleece The...  women's clothing   \n",
            "2  Electomania Women's Silk Underskirt (SH02399_W...  women's clothing   \n",
            "4  SIGHTBOMB WRAP Around Extended Sleeves Ribbed ...  women's clothing   \n",
            "5  SATYAM KRAFT 1 Pcs Women's Retro Stretchy Meta...  women's clothing   \n",
            "\n",
            "   sub_category                                              image  \\\n",
            "0  Western Wear  https://m.media-amazon.com/images/I/61iKv6-unX...   \n",
            "1  Western Wear  https://m.media-amazon.com/images/I/41kY+dxDpz...   \n",
            "2  Western Wear  https://m.media-amazon.com/images/I/41rS-qOPTw...   \n",
            "4  Western Wear  https://m.media-amazon.com/images/I/61WHrBI-ZV...   \n",
            "5  Western Wear  https://m.media-amazon.com/images/I/31J0jBdZCO...   \n",
            "\n",
            "                                                link  ratings  no_of_ratings  \\\n",
            "0  https://www.amazon.in/Leotude-Womens-T-Shirt-2...      3.6            162   \n",
            "1  https://www.amazon.in/Alexvyan-Fleece-Legging-...      4.3           2258   \n",
            "2  https://www.amazon.in/Electomania%C2%AE-Unders...      3.8           3578   \n",
            "4  https://www.amazon.in/SIGHTBOMB-Around-Extende...      4.0            125   \n",
            "5  https://www.amazon.in/SATYAM-KRAFT-Womens-Elas...      4.3           2488   \n",
            "\n",
            "  discount_price actual_price  \n",
            "0           ₹309       ₹1,099  \n",
            "1           ₹729       ₹1,299  \n",
            "2         ₹1,099       ₹1,999  \n",
            "4           ₹388       ₹1,200  \n",
            "5           ₹219       ₹1,200  \n"
          ]
        }
      ],
      "source": [
        "df_cleaned = df.dropna()\n",
        "df_cleaned = df_cleaned.drop_duplicates()\n",
        "df_cleaned['no_of_ratings'] = df_cleaned['no_of_ratings'].str.replace(',', '').astype(int)\n",
        "df_cleaned['ratings'] = df_cleaned['ratings'].str.replace(',', '').astype(float)  # Convert 'ratings' to float\n",
        "print(df_cleaned.head())\n",
        "df_cleaned.to_csv('cleaned_dataset.csv', index=False)"
      ]
    },
    {
      "cell_type": "markdown",
      "metadata": {
        "id": "pU8p-ZR1CqVN"
      },
      "source": [
        "Dataset Validation"
      ]
    },
    {
      "cell_type": "code",
      "execution_count": null,
      "metadata": {
        "colab": {
          "base_uri": "https://localhost:8080/"
        },
        "id": "JL3k7hhBCiFz",
        "outputId": "65e1352f-ab7c-4767-922c-88312110f26b"
      },
      "outputs": [
        {
          "output_type": "stream",
          "name": "stdout",
          "text": [
            "     schema_context         column             check check_number  \\\n",
            "0            Column        ratings  dtype('float64')         None   \n",
            "3277         Column  no_of_ratings      not_nullable         None   \n",
            "3284         Column  no_of_ratings      not_nullable         None   \n",
            "3283         Column  no_of_ratings      not_nullable         None   \n",
            "3282         Column  no_of_ratings      not_nullable         None   \n",
            "...             ...            ...               ...          ...   \n",
            "1639         Column  no_of_ratings      not_nullable         None   \n",
            "1638         Column  no_of_ratings      not_nullable         None   \n",
            "1637         Column  no_of_ratings      not_nullable         None   \n",
            "1636         Column  no_of_ratings      not_nullable         None   \n",
            "4918         Column   actual_price      not_nullable         None   \n",
            "\n",
            "     failure_case  index  \n",
            "0          object   None  \n",
            "3277          NaN  18084  \n",
            "3284          NaN  18116  \n",
            "3283          NaN  18114  \n",
            "3282          NaN  18113  \n",
            "...           ...    ...  \n",
            "1639          NaN  10901  \n",
            "1638          NaN  10893  \n",
            "1637          NaN  10888  \n",
            "1636          NaN  10881  \n",
            "4918          NaN  19129  \n",
            "\n",
            "[4919 rows x 6 columns]\n"
          ]
        }
      ],
      "source": [
        "import pandera as pa\n",
        "import pandas as pd\n",
        "\n",
        "# Read the dataset\n",
        "df = pd.read_csv(\"Western Wear.csv\")\n",
        "\n",
        "# Define the validation schema\n",
        "schema = pa.DataFrameSchema({\n",
        "    \"name\": pa.Column(pa.String),\n",
        "    \"main_category\": pa.Column(pa.String),\n",
        "    \"sub_category\": pa.Column(pa.String),\n",
        "    \"image\": pa.Column(pa.String),\n",
        "    \"link\": pa.Column(pa.String),\n",
        "    \"ratings\": pa.Column(pa.Float, nullable=True),\n",
        "    \"no_of_ratings\": pa.Column(pa.Int),\n",
        "    \"discount_price\": pa.Column(pa.String),\n",
        "    \"actual_price\": pa.Column(pa.String)\n",
        "})\n",
        "\n",
        "try:\n",
        "    schema.validate(df, lazy=True)\n",
        "except pa.errors.SchemaErrors as exc:\n",
        "    failure_cases_df = exc.failure_cases\n",
        "    print(failure_cases_df)\n",
        "\n",
        "# Save the validated DataFrame to a CSV file\n",
        "df.to_csv('cleaned_validated.csv', index=False)\n"
      ]
    },
    {
      "cell_type": "markdown",
      "metadata": {
        "id": "zz5G8tnVDlqc"
      },
      "source": [
        "Privacy and Security"
      ]
    },
    {
      "cell_type": "code",
      "execution_count": null,
      "metadata": {
        "colab": {
          "background_save": true,
          "base_uri": "https://localhost:8080/"
        },
        "id": "yQFrVjyMDdn3",
        "outputId": "66a37fc4-acd8-420e-ecf9-e0af976816da"
      },
      "outputs": [
        {
          "name": "stderr",
          "output_type": "stream",
          "text": [
            "WARNING:py.warnings:/usr/local/lib/python3.10/dist-packages/ipykernel/ipkernel.py:283: DeprecationWarning: `should_run_async` will not call `transform_cell` automatically in the future. Please pass the result to `transformed_cell` argument and any exception that happen during thetransform in `preprocessing_exc_tuple` in IPython 7.17 and above.\n",
            "  and should_run_async(code)\n",
            "\n"
          ]
        },
        {
          "name": "stdout",
          "output_type": "stream",
          "text": [
            "Encrypted dataset saved as encrypted_dataset.csv\n"
          ]
        }
      ],
      "source": [
        "from cryptography.fernet import Fernet\n",
        "\n",
        "key = Fernet.generate_key()\n",
        "cipher_suite = Fernet(key)\n",
        "encrypted_data = cipher_suite.encrypt(df_cleaned.to_csv(index=False).encode())\n",
        "output_csv_filename = \"encrypted_dataset.csv\"\n",
        "with open(output_csv_filename, 'wb') as f:\n",
        "    f.write(encrypted_data)\n",
        "\n",
        "print(f\"Encrypted dataset saved as {output_csv_filename}\")"
      ]
    },
    {
      "cell_type": "code",
      "execution_count": null,
      "metadata": {
        "colab": {
          "background_save": true,
          "base_uri": "https://localhost:8080/"
        },
        "id": "kyrbsxJYDaV5",
        "outputId": "3ca1be9c-1728-407d-a431-ed1b096ab81f"
      },
      "outputs": [
        {
          "name": "stdout",
          "output_type": "stream",
          "text": [
            "Read access granted.\n",
            "Write access granted.\n",
            "Execute access denied.\n"
          ]
        }
      ],
      "source": [
        "import os\n",
        "\n",
        "# Define the file path for access control\n",
        "file_path = \"encrypted_dataset.csv\"\n",
        "\n",
        "# Apply access control to restrict file permissions\n",
        "os.chmod(file_path, 0o600)  # Restrict access to the file\n",
        "\n",
        "# Check if the current user has read access to the file\n",
        "if os.access(file_path, os.R_OK):\n",
        "    print(\"Read access granted.\")\n",
        "else:\n",
        "    print(\"Read access denied.\")\n",
        "\n",
        "# Check if the current user has write access to the file\n",
        "if os.access(file_path, os.W_OK):\n",
        "    print(\"Write access granted.\")\n",
        "else:\n",
        "    print(\"Write access denied.\")\n",
        "\n",
        "# Check if the current user has execute access to the file\n",
        "if os.access(file_path, os.X_OK):\n",
        "    print(\"Execute access granted.\")\n",
        "else:\n",
        "    print(\"Execute access denied.\")\n"
      ]
    }
  ],
  "metadata": {
    "colab": {
      "provenance": []
    },
    "kernelspec": {
      "display_name": "Python 3",
      "name": "python3"
    },
    "language_info": {
      "name": "python"
    }
  },
  "nbformat": 4,
  "nbformat_minor": 0
}